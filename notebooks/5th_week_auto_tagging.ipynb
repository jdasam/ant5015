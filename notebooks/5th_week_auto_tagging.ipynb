{
  "cells": [
    {
      "cell_type": "markdown",
      "metadata": {
        "id": "view-in-github",
        "colab_type": "text"
      },
      "source": [
        "<a href=\"https://colab.research.google.com/github/jdasam/ant5015/blob/main/notebooks/5th_week_auto_tagging.ipynb\" target=\"_parent\"><img src=\"https://colab.research.google.com/assets/colab-badge.svg\" alt=\"Open In Colab\"/></a>"
      ]
    },
    {
      "cell_type": "markdown",
      "id": "60457791",
      "metadata": {
        "id": "60457791"
      },
      "source": [
        "# Autotagging"
      ]
    },
    {
      "cell_type": "code",
      "execution_count": null,
      "id": "d5e73fb9",
      "metadata": {
        "id": "d5e73fb9"
      },
      "outputs": [],
      "source": [
        "import torch\n",
        "import torchaudio\n",
        "import IPython.display as ipd\n",
        "from pathlib import Path\n",
        "import pandas as pd\n",
        "import matplotlib.pyplot as plt"
      ]
    },
    {
      "cell_type": "markdown",
      "id": "97164c88",
      "metadata": {
        "id": "97164c88"
      },
      "source": [
        "- Download Small MTAT if you need\n"
      ]
    },
    {
      "cell_type": "code",
      "execution_count": null,
      "id": "2ea84fda",
      "metadata": {
        "colab": {
          "base_uri": "https://localhost:8080/"
        },
        "id": "2ea84fda",
        "outputId": "8b633da5-e8a6-4f4b-fa2a-4b2246044fe5"
      },
      "outputs": [
        {
          "name": "stdout",
          "output_type": "stream",
          "text": [
            "Looking in indexes: https://pypi.org/simple, https://us-python.pkg.dev/colab-wheels/public/simple/\n",
            "Requirement already satisfied: gdown in /usr/local/lib/python3.9/dist-packages (4.6.6)\n",
            "Collecting gdown\n",
            "  Downloading gdown-4.7.1-py3-none-any.whl (15 kB)\n",
            "Requirement already satisfied: filelock in /usr/local/lib/python3.9/dist-packages (from gdown) (3.10.7)\n",
            "Requirement already satisfied: six in /usr/local/lib/python3.9/dist-packages (from gdown) (1.16.0)\n",
            "Requirement already satisfied: requests[socks] in /usr/local/lib/python3.9/dist-packages (from gdown) (2.27.1)\n",
            "Requirement already satisfied: beautifulsoup4 in /usr/local/lib/python3.9/dist-packages (from gdown) (4.11.2)\n",
            "Requirement already satisfied: tqdm in /usr/local/lib/python3.9/dist-packages (from gdown) (4.65.0)\n",
            "Requirement already satisfied: soupsieve>1.2 in /usr/local/lib/python3.9/dist-packages (from beautifulsoup4->gdown) (2.4)\n",
            "Requirement already satisfied: charset-normalizer~=2.0.0 in /usr/local/lib/python3.9/dist-packages (from requests[socks]->gdown) (2.0.12)\n",
            "Requirement already satisfied: idna<4,>=2.5 in /usr/local/lib/python3.9/dist-packages (from requests[socks]->gdown) (3.4)\n",
            "Requirement already satisfied: certifi>=2017.4.17 in /usr/local/lib/python3.9/dist-packages (from requests[socks]->gdown) (2022.12.7)\n",
            "Requirement already satisfied: urllib3<1.27,>=1.21.1 in /usr/local/lib/python3.9/dist-packages (from requests[socks]->gdown) (1.26.15)\n",
            "Requirement already satisfied: PySocks!=1.5.7,>=1.5.6 in /usr/local/lib/python3.9/dist-packages (from requests[socks]->gdown) (1.7.1)\n",
            "Installing collected packages: gdown\n",
            "  Attempting uninstall: gdown\n",
            "    Found existing installation: gdown 4.6.6\n",
            "    Uninstalling gdown-4.6.6:\n",
            "      Successfully uninstalled gdown-4.6.6\n",
            "Successfully installed gdown-4.7.1\n",
            "Downloading...\n",
            "From (uriginal): https://drive.google.com/uc?id=15e9E3oZdudErkPKwb0rCAiZXkPxdZkV6\n",
            "From (redirected): https://drive.google.com/uc?id=15e9E3oZdudErkPKwb0rCAiZXkPxdZkV6&confirm=t&uuid=5e359696-4c72-455b-b2d7-abcb0985bb9f\n",
            "To: /content/mtat_8000.zip\n",
            "100% 921M/921M [00:08<00:00, 110MB/s] \n"
          ]
        }
      ],
      "source": [
        "!pip install --upgrade gdown\n",
        "!gdown 15e9E3oZdudErkPKwb0rCAiZXkPxdZkV6\n",
        "# !wget https://sogang365-my.sharepoint.com/:u:/g/personal/dasaem_jeong_o365_sogang_ac_kr/EdkHWV-qvxBEi-d0Ua73VG4BEp7EZO7HMvrXsWqeJvMJzg?e=GbYylV&download=1\n",
        "\n",
        "!unzip -q mtat_8000.zip"
      ]
    },
    {
      "cell_type": "code",
      "execution_count": null,
      "id": "7de7e920",
      "metadata": {
        "colab": {
          "base_uri": "https://localhost:8080/"
        },
        "id": "7de7e920",
        "outputId": "c84b4706-dc1b-469a-df15-83279c4beb52"
      },
      "outputs": [
        {
          "data": {
            "text/plain": [
              "(tensor([ 0.0000e+00,  0.0000e+00,  0.0000e+00,  ..., -8.8974e-08,\n",
              "         -5.8156e-08, -5.6856e-08]),\n",
              " tensor([0., 0., 0., 0., 0., 0., 0., 1., 0., 0., 1., 0., 0., 0., 0., 0., 0., 0.,\n",
              "         0., 0., 0., 0., 0., 0., 0., 0., 0., 0., 0., 0., 0., 0., 0., 0., 0., 0.,\n",
              "         0., 0., 0., 0., 0., 0., 0., 0., 0., 0., 0., 0., 1., 0.]))"
            ]
          },
          "execution_count": 3,
          "metadata": {},
          "output_type": "execute_result"
        }
      ],
      "source": [
        "class MTATDataset:\n",
        "  def __init__(self, dir_path, split='train', num_max_data=6000, sr=16000):\n",
        "    self.dir = Path(dir_path)\n",
        "    self.labels = pd.read_csv(self.dir / \"meta.csv\", index_col=[0])\n",
        "    self.sr = sr\n",
        "\n",
        "    if split==\"train\":\n",
        "      sub_dir_ids = ['0', '1', '2', '3', '4', '5', '6', '7', '8', '9', 'a', 'b', 'c']\n",
        "    elif split=='valid':\n",
        "      sub_dir_ids = ['d']\n",
        "    else: #test\n",
        "      sub_dir_ids = ['e', 'f', 'g']\n",
        "\n",
        "    is_in_set = [True if x[0] in sub_dir_ids else False for x in self.labels['mp3_path'].values.astype('str')]\n",
        "    self.labels = self.labels.iloc[is_in_set]\n",
        "    self.labels = self.labels[:num_max_data]\n",
        "    self.vocab = self.labels.columns.values[1:-1]\n",
        "    self.label_tensor = self.convert_label_to_tensor()\n",
        "\n",
        "  def convert_label_to_tensor(self):\n",
        "    return torch.tensor(self.labels.values[:, 1:-1].astype('bool'), dtype=torch.float)\n",
        "\n",
        "  def __len__(self):\n",
        "    return len(self.labels)\n",
        "\n",
        "  def __getitem__(self, idx):\n",
        "    info = self.labels.iloc[idx]\n",
        "    mp3_path = self.dir / info['mp3_path']\n",
        "\n",
        "    audio, sr = torchaudio.load(mp3_path)\n",
        "    assert sr == self.sr\n",
        "    label = self.label_tensor[idx]\n",
        "    return audio.mean(0), label\n",
        "\n",
        "data_dir = Path('MTAT_SMALL')\n",
        "dataset= MTATDataset(data_dir)\n",
        "dataset[0]"
      ]
    },
    {
      "cell_type": "markdown",
      "id": "c4074a82",
      "metadata": {
        "id": "c4074a82"
      },
      "source": [
        "## Make Dataset"
      ]
    },
    {
      "cell_type": "markdown",
      "id": "56f48eb7",
      "metadata": {
        "id": "56f48eb7"
      },
      "source": [
        "## Make Model"
      ]
    },
    {
      "cell_type": "markdown",
      "id": "9ee479ca",
      "metadata": {
        "id": "9ee479ca"
      },
      "source": [
        "## Train!"
      ]
    },
    {
      "cell_type": "markdown",
      "id": "757931ed",
      "metadata": {
        "id": "757931ed"
      },
      "source": [
        "## Data Normalization"
      ]
    },
    {
      "cell_type": "markdown",
      "id": "5a9ddf1e",
      "metadata": {
        "id": "5a9ddf1e"
      },
      "source": [
        "## How CNN works"
      ]
    },
    {
      "cell_type": "markdown",
      "id": "e4901b54",
      "metadata": {
        "id": "e4901b54"
      },
      "source": [
        "## Batch Norm"
      ]
    }
  ],
  "metadata": {
    "accelerator": "GPU",
    "colab": {
      "provenance": [],
      "include_colab_link": true
    },
    "gpuClass": "standard",
    "kernelspec": {
      "display_name": "Python 3 (ipykernel)",
      "language": "python",
      "name": "python3"
    },
    "language_info": {
      "codemirror_mode": {
        "name": "ipython",
        "version": 3
      },
      "file_extension": ".py",
      "mimetype": "text/x-python",
      "name": "python",
      "nbconvert_exporter": "python",
      "pygments_lexer": "ipython3",
      "version": "3.8.10"
    }
  },
  "nbformat": 4,
  "nbformat_minor": 5
}