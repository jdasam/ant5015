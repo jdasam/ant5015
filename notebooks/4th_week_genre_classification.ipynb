{
 "cells": [
  {
   "cell_type": "code",
   "execution_count": null,
   "metadata": {},
   "outputs": [],
   "source": [
    "!pip install --upgrade gdown\n",
    "!gdown 1-4elQY1C-n23u3QqomnLiI9CN9iPrWC3\n",
    "!tar -xzf genres.tar.gz"
   ]
  }
 ],
 "metadata": {
  "language_info": {
   "name": "python"
  }
 },
 "nbformat": 4,
 "nbformat_minor": 2
}
