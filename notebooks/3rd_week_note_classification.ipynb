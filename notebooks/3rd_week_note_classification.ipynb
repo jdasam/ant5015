{
  "cells": [
    {
      "cell_type": "markdown",
      "metadata": {
        "id": "view-in-github",
        "colab_type": "text"
      },
      "source": [
        "<a href=\"https://colab.research.google.com/github/jdasam/ant5015/blob/2024F/notebooks/3rd_week_note_classification.ipynb\" target=\"_parent\"><img src=\"https://colab.research.google.com/assets/colab-badge.svg\" alt=\"Open In Colab\"/></a>"
      ]
    },
    {
      "cell_type": "code",
      "execution_count": null,
      "metadata": {
        "id": "bjFhKn4p04zE"
      },
      "outputs": [],
      "source": [
        "import json\n",
        "from pathlib import Path\n",
        "\n",
        "import torch\n",
        "import torchaudio"
      ]
    },
    {
      "cell_type": "code",
      "execution_count": null,
      "metadata": {
        "colab": {
          "base_uri": "https://localhost:8080/"
        },
        "id": "8fOuwCY-04zF",
        "outputId": "3cd4ed87-8c6d-4907-ba48-8b71d1d28120"
      },
      "outputs": [
        {
          "name": "stdout",
          "output_type": "stream",
          "text": [
            "--2024-03-25 04:33:43--  http://download.magenta.tensorflow.org/datasets/nsynth/nsynth-test.jsonwav.tar.gz\n",
            "Resolving download.magenta.tensorflow.org (download.magenta.tensorflow.org)... 173.194.193.207, 173.194.194.207, 173.194.195.207, ...\n",
            "Connecting to download.magenta.tensorflow.org (download.magenta.tensorflow.org)|173.194.193.207|:80... connected.\n",
            "HTTP request sent, awaiting response... 200 OK\n",
            "Length: 349501546 (333M) [application/gzip]\n",
            "Saving to: ‘nsynth-test.jsonwav.tar.gz’\n",
            "\n",
            "nsynth-test.jsonwav 100%[===================>] 333.31M  14.5MB/s    in 5.5s    \n",
            "\n",
            "2024-03-25 04:33:49 (60.9 MB/s) - ‘nsynth-test.jsonwav.tar.gz’ saved [349501546/349501546]\n",
            "\n"
          ]
        }
      ],
      "source": [
        "'''\n",
        "Let's only use testset\n",
        "'''\n",
        "!wget http://download.magenta.tensorflow.org/datasets/nsynth/nsynth-test.jsonwav.tar.gz\n",
        "# !는 주피터에서 터미널 명령어를 사용할때 붙임\n",
        "# python이 아닌 OS (Linux)에 명령을 내리고 싶을 때 실행\n"
      ]
    },
    {
      "cell_type": "code",
      "execution_count": null,
      "metadata": {
        "id": "3mq5LnJd04zG"
      },
      "outputs": [],
      "source": [
        "# 압축 풀기\n",
        "!tar -xf nsynth-test.jsonwav.tar.gz"
      ]
    },
    {
      "cell_type": "markdown",
      "metadata": {
        "id": "IQXzkLH2Jv7r"
      },
      "source": [
        "## Make sine wave\n",
        "- 1 period of angle = 2 * pi\n",
        "- 220 period of angle = 2 * pi * 220 / sec"
      ]
    }
  ],
  "metadata": {
    "accelerator": "GPU",
    "colab": {
      "gpuType": "T4",
      "provenance": [],
      "include_colab_link": true
    },
    "kernelspec": {
      "display_name": "Python 3",
      "name": "python3"
    },
    "language_info": {
      "codemirror_mode": {
        "name": "ipython",
        "version": 3
      },
      "file_extension": ".py",
      "mimetype": "text/x-python",
      "name": "python",
      "nbconvert_exporter": "python",
      "pygments_lexer": "ipython3",
      "version": "3.8.10"
    }
  },
  "nbformat": 4,
  "nbformat_minor": 0
}