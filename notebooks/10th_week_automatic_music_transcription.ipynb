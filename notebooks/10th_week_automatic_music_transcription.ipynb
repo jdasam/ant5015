{
  "cells": [
    {
      "cell_type": "markdown",
      "metadata": {
        "id": "view-in-github",
        "colab_type": "text"
      },
      "source": [
        "<a href=\"https://colab.research.google.com/github/jdasam/ant5015/blob/main/notebooks/10th_week_automatic_music_transcription.ipynb\" target=\"_parent\"><img src=\"https://colab.research.google.com/assets/colab-badge.svg\" alt=\"Open In Colab\"/></a>"
      ]
    },
    {
      "cell_type": "markdown",
      "metadata": {
        "id": "gAOhB878Qfo2"
      },
      "source": [
        "## 0. Download Dataset"
      ]
    },
    {
      "cell_type": "code",
      "execution_count": null,
      "metadata": {
        "metadata": {},
        "id": "KirgX5lzQfo4",
        "outputId": "9b793f3c-f1d8-401c-f9c2-6147eb490bf2"
      },
      "outputs": [
        {
          "name": "stdout",
          "output_type": "stream",
          "text": [
            "/usr/lib/python3/dist-packages/requests/__init__.py:89: RequestsDependencyWarning: urllib3 (2.2.1) or chardet (3.0.4) doesn't match a supported version!\n",
            "  warnings.warn(\"urllib3 ({}) or chardet ({}) doesn't match a supported \"\n",
            "/home/teo/.local/lib/python3.8/site-packages/gdown/__main__.py:132: FutureWarning: Option `--id` was deprecated in version 4.3.1 and will be removed in 5.0. You don't need to pass it anymore to use a file ID.\n",
            "  warnings.warn(\n",
            "Downloading...\n",
            "From (original): https://drive.google.com/uc?id=1L99FSzloXGQsmc-OwsVKggvQNF9niN2M\n",
            "From (redirected): https://drive.google.com/uc?id=1L99FSzloXGQsmc-OwsVKggvQNF9niN2M&confirm=t&uuid=98248691-46b9-4266-8b7f-e4d57278c348\n",
            "To: /home/teo/userdata/git_libraries/ant5015-2024/notebooks/maestro_small.zip\n",
            "  3%|█▏                                    | 37.2M/1.14G [00:02<00:52, 20.8MB/s]^C\n",
            "Traceback (most recent call last):\n",
            "  File \"/home/teo/.local/bin/gdown\", line 8, in <module>\n",
            "    sys.exit(main())\n",
            "  File \"/home/teo/.local/lib/python3.8/site-packages/gdown/__main__.py\", line 163, in main\n",
            "    download(\n",
            "  File \"/home/teo/.local/lib/python3.8/site-packages/gdown/download.py\", line 344, in download\n",
            "    for chunk in res.iter_content(chunk_size=CHUNK_SIZE):\n",
            "  File \"/usr/lib/python3/dist-packages/requests/models.py\", line 750, in generate\n",
            "    for chunk in self.raw.stream(chunk_size, decode_content=True):\n",
            "  File \"/home/teo/.local/lib/python3.8/site-packages/urllib3/response.py\", line 1043, in stream\n",
            "    data = self.read(amt=amt, decode_content=decode_content)\n",
            "  File \"/home/teo/.local/lib/python3.8/site-packages/urllib3/response.py\", line 935, in read\n",
            "    data = self._raw_read(amt)\n",
            "  File \"/home/teo/.local/lib/python3.8/site-packages/urllib3/response.py\", line 862, in _raw_read\n",
            "    data = self._fp_read(amt, read1=read1) if not fp_closed else b\"\"\n",
            "  File \"/home/teo/.local/lib/python3.8/site-packages/urllib3/response.py\", line 845, in _fp_read\n",
            "    return self._fp.read(amt) if amt is not None else self._fp.read()\n",
            "  File \"/usr/lib/python3.8/http/client.py\", line 459, in read\n",
            "    n = self.readinto(b)\n",
            "  File \"/usr/lib/python3.8/http/client.py\", line 503, in readinto\n",
            "    n = self.fp.readinto(b)\n",
            "  File \"/usr/lib/python3.8/socket.py\", line 669, in readinto\n",
            "    return self._sock.recv_into(b)\n",
            "  File \"/usr/lib/python3.8/ssl.py\", line 1241, in recv_into\n",
            "    return self.read(nbytes, buffer)\n",
            "  File \"/usr/lib/python3.8/ssl.py\", line 1099, in read\n",
            "    return self._sslobj.read(len, buffer)\n",
            "KeyboardInterrupt\n",
            "  3%|█▏                                    | 37.2M/1.14G [00:02<01:04, 17.1MB/s]\n",
            "unzip:  cannot find or open maestro_small.zip, maestro_small.zip.zip or maestro_small.zip.ZIP.\n"
          ]
        }
      ],
      "source": [
        "!gdown --id 1L99FSzloXGQsmc-OwsVKggvQNF9niN2M\n",
        "!unzip -q maestro_small.zip\n"
      ]
    },
    {
      "cell_type": "code",
      "execution_count": null,
      "metadata": {
        "id": "_dvPGseFQfo5"
      },
      "outputs": [],
      "source": [
        "!pip install mido pretty_midi"
      ]
    },
    {
      "cell_type": "markdown",
      "metadata": {
        "id": "f0sRBzbAQfo5"
      },
      "source": [
        "## 1. Preprocess Data"
      ]
    },
    {
      "cell_type": "code",
      "execution_count": null,
      "metadata": {
        "id": "-6_YAXPAQfo6"
      },
      "outputs": [],
      "source": [
        "from mido import Message, MidiFile, MidiTrack, MetaMessage\n"
      ]
    },
    {
      "cell_type": "markdown",
      "metadata": {
        "id": "ATQn-qZeQfo6"
      },
      "source": [
        "## 2. Model"
      ]
    },
    {
      "cell_type": "code",
      "execution_count": null,
      "metadata": {
        "id": "8kpw-hL7Qfo6"
      },
      "outputs": [],
      "source": []
    },
    {
      "cell_type": "markdown",
      "metadata": {
        "id": "KAqO8bxVQfo6"
      },
      "source": [
        "## 3. Training"
      ]
    },
    {
      "cell_type": "code",
      "execution_count": null,
      "metadata": {
        "id": "aho6SiFCQfo6"
      },
      "outputs": [],
      "source": []
    }
  ],
  "metadata": {
    "kernelspec": {
      "display_name": "Python 3",
      "language": "python",
      "name": "python3"
    },
    "language_info": {
      "codemirror_mode": {
        "name": "ipython",
        "version": 3
      },
      "file_extension": ".py",
      "mimetype": "text/x-python",
      "name": "python",
      "nbconvert_exporter": "python",
      "pygments_lexer": "ipython3",
      "version": "3.8.10"
    },
    "colab": {
      "provenance": [],
      "include_colab_link": true
    }
  },
  "nbformat": 4,
  "nbformat_minor": 0
}