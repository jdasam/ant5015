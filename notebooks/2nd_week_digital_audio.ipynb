{
 "cells": [
  {
   "cell_type": "code",
   "execution_count": 1,
   "metadata": {},
   "outputs": [],
   "source": [
    "import torch\n",
    "import torchaudio"
   ]
  },
  {
   "cell_type": "code",
   "execution_count": 2,
   "metadata": {},
   "outputs": [
    {
     "name": "stdout",
     "output_type": "stream",
     "text": [
      "--2024-03-11 14:52:37--  https://www.audiolabs-erlangen.de/resources/MIR/FMP/data/C3/FMP_C3_F03.mp3\n",
      "Resolving www.audiolabs-erlangen.de (www.audiolabs-erlangen.de)... 131.188.16.201\n",
      "Connecting to www.audiolabs-erlangen.de (www.audiolabs-erlangen.de)|131.188.16.201|:443... connected.\n",
      "HTTP request sent, awaiting response... 200 OK\n",
      "Length: 589377 (576K) [audio/mpeg]\n",
      "Saving to: ‘FMP_C3_F03.mp3’\n",
      "\n",
      "FMP_C3_F03.mp3      100%[===================>] 575.56K   388KB/s    in 1.5s    \n",
      "\n",
      "2024-03-11 14:52:40 (388 KB/s) - ‘FMP_C3_F03.mp3’ saved [589377/589377]\n",
      "\n"
     ]
    }
   ],
   "source": [
    "!wget https://www.audiolabs-erlangen.de/resources/MIR/FMP/data/C3/FMP_C3_F03.mp3"
   ]
  },
  {
   "cell_type": "code",
   "execution_count": null,
   "metadata": {},
   "outputs": [],
   "source": []
  }
 ],
 "metadata": {
  "kernelspec": {
   "display_name": "Python 3",
   "language": "python",
   "name": "python3"
  },
  "language_info": {
   "codemirror_mode": {
    "name": "ipython",
    "version": 3
   },
   "file_extension": ".py",
   "mimetype": "text/x-python",
   "name": "python",
   "nbconvert_exporter": "python",
   "pygments_lexer": "ipython3",
   "version": "3.8.10"
  },
  "orig_nbformat": 4
 },
 "nbformat": 4,
 "nbformat_minor": 2
}
